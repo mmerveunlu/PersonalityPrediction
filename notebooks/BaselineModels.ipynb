{
 "cells": [
  {
   "cell_type": "markdown",
   "metadata": {
    "colab_type": "text",
    "id": "eIvCQUT1B4A8"
   },
   "source": [
    "This notebook contains baseline model for personality prediction \n",
    "using MBTI dataset. \n",
    "\n",
    "The Myers Briggs Type Indicator (or MBTI for short) is a personality type system that divides everyone into 16 distinct personality types across 4 axis:\n",
    "* Introversion (I) – Extroversion (E)\n",
    "* Intuition (N) – Sensing (S)\n",
    "* Thinking (T) – Feeling (F)\n",
    "* Judging (J) – Perceiving (P)\n",
    "\n",
    "In the dataset, there are 8600 rows of data. Each row contains a person's MBTI personality class and the last 50 things that he/she posted in PersonalityCafe Forum. \n"
   ]
  },
  {
   "cell_type": "code",
   "execution_count": 3,
   "metadata": {
    "colab": {},
    "colab_type": "code",
    "id": "aPkXoEmR2T3h"
   },
   "outputs": [],
   "source": [
    "# import libraries \n",
    "import json \n",
    "import numpy as np\n",
    "seed = 123\n",
    "np.random.seed(seed)\n",
    "from sklearn.feature_extraction.text import CountVectorizer\n",
    "from sklearn.model_selection import train_test_split\n",
    "from sklearn.naive_bayes import MultinomialNB\n",
    "from sklearn.model_selection import cross_validate\n",
    "from sklearn.model_selection import StratifiedKFold\n",
    "from sklearn.feature_extraction.text import TfidfTransformer\n",
    "from sklearn.metrics import balanced_accuracy_score\n",
    "from sklearn.linear_model import LogisticRegression\n",
    "from sklearn.neighbors import KNeighborsClassifier\n",
    "from sklearn.metrics import confusion_matrix\n",
    "from sklearn.model_selection import learning_curve\n",
    "import seaborn as sns \n",
    "import matplotlib.pyplot as plt\n",
    "import pandas as pd\n",
    "from os.path import join"
   ]
  },
  {
   "cell_type": "code",
   "execution_count": 4,
   "metadata": {
    "colab": {},
    "colab_type": "code",
    "id": "GvLM__G42gZP"
   },
   "outputs": [],
   "source": [
    "# define constants \n",
    "data_folder = \"../dataset/\"\n",
    "raw_data_file = \"mbti_1.csv\"\n",
    "punc_data_file = join(data_folder,\"preprocessed_data_punc.json\")\n",
    "links_data_file = join(data_folder,\"preprocessed_data_links.json\")\n",
    "letter_data_file = join(data_folder,\"preprocessed_data_letters.json\")\n",
    "type_data_file = join(data_folder,\"preprocessed_data_type.json\")\n",
    "prep_data_file = join(data_folder,\"preprocessed_data_all.json\")\n",
    "none_data_file = join(data_folder,\"preprocessed_data_none.json\")\n",
    "\n",
    "n_splits = 5 # number of splits for cross-validation\n",
    "shuffle_flag = True \n",
    "\n",
    "scoring = {'acc': 'accuracy',\n",
    "           'neg_log_loss': 'neg_log_loss',\n",
    "           'f1_micro': 'f1_micro'}"
   ]
  },
  {
   "cell_type": "code",
   "execution_count": 5,
   "metadata": {
    "colab": {},
    "colab_type": "code",
    "id": "b-d2r5d62l73"
   },
   "outputs": [],
   "source": [
    "# define functions \n",
    "def read_dataset(filepath):\n",
    "    with open(filepath) as fp:\n",
    "        return json.load(fp)\n",
    "\n",
    "\n",
    "def plot_confusion_matrix(cm, classes,\n",
    "                          title='Confusion matrix',\n",
    "                          cmap=plt.cm.Blues):\n",
    "    \"\"\"\n",
    "    This function prints and plots the confusion matrix.\n",
    "    \"\"\"\n",
    "\n",
    "    plt.imshow(cm, interpolation='nearest', cmap=cmap)\n",
    "    plt.title(title)\n",
    "    plt.colorbar()\n",
    "    tick_marks = np.arange(len(classes))\n",
    "    plt.xticks(tick_marks, classes, rotation=45)\n",
    "    plt.yticks(tick_marks, classes)\n",
    "\n",
    "    plt.tight_layout()\n",
    "    plt.ylabel('True label')\n",
    "    plt.xlabel('Predicted label')"
   ]
  },
  {
   "cell_type": "markdown",
   "metadata": {
    "colab_type": "text",
    "id": "DAbiGZVfCEnB"
   },
   "source": [
    "## Prepare Data"
   ]
  },
  {
   "cell_type": "code",
   "execution_count": 7,
   "metadata": {
    "colab": {},
    "colab_type": "code",
    "id": "tf7rDo7VqIz7"
   },
   "outputs": [],
   "source": [
    "def prepare_data(data_file, max_features= 5000, json_flag=False):\n",
    "    \"\"\" for a given datafile reads the content and returns \n",
    "      posts and labels \n",
    "      @data_file: string, the path of the file \n",
    "      @json_flag: bool, True if given file is in json format\n",
    "      @max_features: int, number of features in tf-idf\n",
    "      Returns \n",
    "      @X_train_cnt: tf-idf vectors of training posts  \n",
    "      @X_tes_cnt: tf-idf vectors of test posts\n",
    "      @y_train: int, train labels \n",
    "      @y_test: int, test labels\n",
    "    \"\"\"\n",
    "    if json_flag:\n",
    "        dataset = read_dataset(data_file)\n",
    "        posts = list(dataset['posts'])\n",
    "        labels = list(dataset['types'])\n",
    "    else:\n",
    "        dataset = pd.read_csv(data_file)\n",
    "        posts = list(dataset['posts'].values)\n",
    "        labels = list(dataset['type'].values)\n",
    "    print(\"The number of data %d \" %(len(posts)))\n",
    "    print(\"Example from dataset\")\n",
    "    print(posts[0][0:50]) \n",
    "    print(\"For type %s\" %(labels[0]))\n",
    "    posts = [p.lower() for p in posts]\n",
    "    #return posts, labels \n",
    "\n",
    "    # train-test split \n",
    "    X = np.array(posts)\n",
    "    y = np.array(labels)\n",
    "    X_train, X_test, y_train, y_test = train_test_split(posts, labels, \n",
    "                                                    test_size=0.2, \n",
    "                                                    random_state=seed)\n",
    "    print(\"Number of examples in train set %d \" %(len(X_train)))\n",
    "    print(\"Number of examples in test set %d \" %(len(X_test)))\n",
    "\n",
    "    # create a matrix of numbers to represent posts\n",
    "    tfidf2 = CountVectorizer(ngram_range=(1, 1), \n",
    "                         stop_words='english',\n",
    "                         lowercase = False, \n",
    "                         max_features = max_features)\n",
    "\n",
    "    X_train_cnt = tfidf2.fit_transform(X_train)\n",
    "    X_test_cnt = tfidf2.transform(X_test)\n",
    "    return X_train_cnt, X_test_cnt, y_train, y_test"
   ]
  },
  {
   "cell_type": "code",
   "execution_count": 8,
   "metadata": {
    "colab": {
     "base_uri": "https://localhost:8080/",
     "height": 121
    },
    "colab_type": "code",
    "id": "8ZYSC2JhwIUi",
    "outputId": "d579c9d6-a23d-4d4e-e255-77a3c1f89ac7"
   },
   "outputs": [
    {
     "name": "stdout",
     "output_type": "stream",
     "text": [
      "The number of data 8675 \n",
      "Example from dataset\n",
      "  link link type type moment link sportscenter top\n",
      "For type 8\n",
      "Number of examples in train set 6940 \n",
      "Number of examples in test set 1735 \n"
     ]
    }
   ],
   "source": [
    "X_train_cnt, X_test_cnt, y_train,y_test = prepare_data(prep_data_file,json_flag=True)"
   ]
  },
  {
   "cell_type": "markdown",
   "metadata": {
    "colab_type": "text",
    "id": "hQR_xIk6CWV-"
   },
   "source": [
    "## Naive Bayes"
   ]
  },
  {
   "cell_type": "code",
   "execution_count": 9,
   "metadata": {
    "colab": {},
    "colab_type": "code",
    "id": "qzVFKvkv3Vot"
   },
   "outputs": [],
   "source": [
    "model = MultinomialNB()\n",
    "kfolds = StratifiedKFold(n_splits=n_splits, shuffle=shuffle_flag, random_state=seed)\n",
    "\n",
    "results_nb = cross_validate(model, X_train_cnt,y_train, cv=kfolds, \n",
    "                          scoring=scoring, n_jobs=-1)"
   ]
  },
  {
   "cell_type": "code",
   "execution_count": 10,
   "metadata": {
    "colab": {
     "base_uri": "https://localhost:8080/",
     "height": 69
    },
    "colab_type": "code",
    "id": "1SuAKemt3Y0P",
    "outputId": "b3b32486-6882-4a56-bf3a-b7b899745405"
   },
   "outputs": [
    {
     "name": "stdout",
     "output_type": "stream",
     "text": [
      "CV Accuracy: 0.3557 (+/- 0.0058)\n",
      "CV F1: 0.3557 (+/- 0.0058)\n",
      "CV Logloss: 9.1488 (+/- 0.2160)\n"
     ]
    }
   ],
   "source": [
    "print(\"CV Accuracy: {:0.4f} (+/- {:0.4f})\".format(np.mean(results_nb['test_acc']),\n",
    "                                                          np.std(results_nb['test_acc'])))\n",
    "\n",
    "print(\"CV F1: {:0.4f} (+/- {:0.4f})\".format(np.mean(results_nb['test_f1_micro']),\n",
    "                                                          np.std(results_nb['test_f1_micro'])))\n",
    "\n",
    "print(\"CV Logloss: {:0.4f} (+/- {:0.4f})\".format(np.mean(-1*results_nb['test_neg_log_loss']),\n",
    "                                                          np.std(-1*results_nb['test_neg_log_loss'])))"
   ]
  },
  {
   "cell_type": "markdown",
   "metadata": {
    "colab_type": "text",
    "id": "ChJWYx-dDDTa"
   },
   "source": [
    "Make prediction with the model on test data"
   ]
  },
  {
   "cell_type": "code",
   "execution_count": 11,
   "metadata": {
    "colab": {
     "base_uri": "https://localhost:8080/",
     "height": 34
    },
    "colab_type": "code",
    "id": "aWodDb3a3bI-",
    "outputId": "7e6eb9e5-0990-4c82-f4f9-814b83561852"
   },
   "outputs": [
    {
     "name": "stdout",
     "output_type": "stream",
     "text": [
      "Accuracy for test data 0.2313\n"
     ]
    }
   ],
   "source": [
    "# Make prediction with fit model\n",
    "model.fit(X_train_cnt,y_train)\n",
    "y_preds = model.predict(X_test_cnt)\n",
    "accuracy = balanced_accuracy_score(y_test,y_preds)\n",
    "print(\"Accuracy for test data {:0.4f}\".format(accuracy))"
   ]
  },
  {
   "cell_type": "markdown",
   "metadata": {
    "colab_type": "text",
    "id": "YeqtNm5uC-Dy"
   },
   "source": [
    "## Logistic Regression"
   ]
  },
  {
   "cell_type": "code",
   "execution_count": 32,
   "metadata": {
    "colab": {},
    "colab_type": "code",
    "id": "D3GPCkI-3de3"
   },
   "outputs": [],
   "source": [
    "model_lr = LogisticRegression(solver = 'sag',\n",
    "                              multi_class='multinomial',\n",
    "                              max_iter=400,\n",
    "                              class_weight=\"balanced\", \n",
    "                              C=0.005)\n",
    "kfolds = StratifiedKFold(n_splits=n_splits, shuffle=shuffle_flag, random_state=seed)\n",
    "\n",
    "results_logrec = cross_validate(model_lr, X_train_cnt,y_train, cv=kfolds, \n",
    "                          scoring=scoring, n_jobs=-1)"
   ]
  },
  {
   "cell_type": "code",
   "execution_count": 33,
   "metadata": {
    "colab": {
     "base_uri": "https://localhost:8080/",
     "height": 69
    },
    "colab_type": "code",
    "id": "SGFvE5mr3hIY",
    "outputId": "54c33810-3bdd-4992-bbce-a8f7f2993de8"
   },
   "outputs": [
    {
     "name": "stdout",
     "output_type": "stream",
     "text": [
      "CV Accuracy: 0.3367 (+/- 0.0125)\n",
      "CV F1: 0.3367 (+/- 0.0125)\n",
      "CV Logloss: 2.0574 (+/- 0.0265)\n"
     ]
    }
   ],
   "source": [
    "print(\"CV Accuracy: {:0.4f} (+/- {:0.4f})\".format(np.mean(results_logrec['test_acc']),\n",
    "                                                          np.std(results_logrec['test_acc'])))\n",
    "\n",
    "print(\"CV F1: {:0.4f} (+/- {:0.4f})\".format(np.mean(results_logrec['test_f1_micro']),\n",
    "                                                          np.std(results_logrec['test_f1_micro'])))\n",
    "\n",
    "print(\"CV Logloss: {:0.4f} (+/- {:0.4f})\".format(np.mean(-1*results_logrec['test_neg_log_loss']),\n",
    "                                                          np.std(-1*results_logrec['test_neg_log_loss'])))"
   ]
  },
  {
   "cell_type": "code",
   "execution_count": 35,
   "metadata": {
    "colab": {
     "base_uri": "https://localhost:8080/",
     "height": 34
    },
    "colab_type": "code",
    "id": "rwbNnLpwxGOd",
    "outputId": "0664a536-797e-4d8e-ce83-32e0b9ccc697"
   },
   "outputs": [
    {
     "name": "stdout",
     "output_type": "stream",
     "text": [
      "Accuracy for test data 0.2548\n"
     ]
    }
   ],
   "source": [
    "# Make prediction with fit model\n",
    "model_lr.fit(X_train_cnt,y_train)\n",
    "y_preds = model_lr.predict(X_test_cnt)\n",
    "accuracy = balanced_accuracy_score(y_test,y_preds)\n",
    "print(\"Accuracy for test data {:0.4f}\".format(accuracy))"
   ]
  },
  {
   "cell_type": "markdown",
   "metadata": {
    "colab_type": "text",
    "id": "Ce4mGeUpwBrf"
   },
   "source": [
    "# Test Models for all preprocessed datasets"
   ]
  },
  {
   "cell_type": "code",
   "execution_count": 12,
   "metadata": {
    "colab": {
     "base_uri": "https://localhost:8080/",
     "height": 972
    },
    "colab_type": "code",
    "id": "NYlt7A79wAxh",
    "outputId": "a4dd2aa0-0af7-401b-938e-9a69e2532215"
   },
   "outputs": [
    {
     "name": "stdout",
     "output_type": "stream",
     "text": [
      "Modelling for all \n",
      "The number of data 8675 \n",
      "Example from dataset\n",
      "  link link type type moment link sportscenter top\n",
      "For type 8\n",
      "Number of examples in train set 6940 \n",
      "Number of examples in test set 1735 \n",
      "Training Naive Bayes for all \n",
      "Accuracy of NB for test data 0.2313\n",
      "Training LogRec for all \n",
      "Accuracy of LogRec for test data 0.2548\n",
      "Modelling for punc \n",
      "The number of data 8675 \n",
      "Example from dataset\n",
      " 'http://www.youtube.com/watch?v=qsxhcwe3krw http:\n",
      "For type 8\n",
      "Number of examples in train set 6940 \n",
      "Number of examples in test set 1735 \n",
      "Training Naive Bayes for punc \n",
      "Accuracy of NB for test data 0.4184\n",
      "Training LogRec for punc \n",
      "Accuracy of LogRec for test data 0.5889\n",
      "Modelling for links \n",
      "The number of data 8675 \n",
      "Example from dataset\n",
      " 'link link enfp intj moment  link  sportscenter t\n",
      "For type 8\n",
      "Number of examples in train set 6940 \n",
      "Number of examples in test set 1735 \n",
      "Training Naive Bayes for links \n",
      "Accuracy of NB for test data 0.4258\n",
      "Training LogRec for links \n",
      "Accuracy of LogRec for test data 0.5965\n",
      "Modelling for letters \n",
      "The number of data 8675 \n",
      "Example from dataset\n",
      "  http   www youtube com watch v qsxhcwe krw http \n",
      "For type 8\n",
      "Number of examples in train set 6940 \n",
      "Number of examples in test set 1735 \n",
      "Training Naive Bayes for letters \n",
      "Accuracy of NB for test data 0.4152\n",
      "Training LogRec for letters \n",
      "Accuracy of LogRec for test data 0.6160\n",
      "Modelling for type \n",
      "The number of data 8675 \n",
      "Example from dataset\n",
      " 'http://www.youtube.com/watch?v=qsxhcwe3krw http:\n",
      "For type 8\n",
      "Number of examples in train set 6940 \n",
      "Number of examples in test set 1735 \n",
      "Training Naive Bayes for type \n",
      "Accuracy of NB for test data 0.2218\n",
      "Training LogRec for type \n",
      "Accuracy of LogRec for test data 0.2560\n",
      "Modelling for none \n",
      "The number of data 8675 \n",
      "Example from dataset\n",
      " 'http://www.youtube.com/watch?v=qsxhcwe3krw http:\n",
      "For type 8\n",
      "Number of examples in train set 6940 \n",
      "Number of examples in test set 1735 \n",
      "Training Naive Bayes for none \n",
      "Accuracy of NB for test data 0.4184\n",
      "Training LogRec for none \n",
      "Accuracy of LogRec for test data 0.5894\n"
     ]
    }
   ],
   "source": [
    "data_files = {\"all\":prep_data_file,\n",
    "              \"punc\":punc_data_file,\n",
    "              \"links\":links_data_file,\n",
    "              \"letters\":letter_data_file,\n",
    "              \"type\":type_data_file,\n",
    "             \"none\":none_data_file}\n",
    "for k,v in data_files.items():\n",
    "    print(\"Modelling for %s \" %(k))\n",
    "    X_train_cnt, X_test_cnt, y_train, y_test = prepare_data(data_files[k],json_flag=True)\n",
    "    # do models\n",
    "    #1 - NB\n",
    "    model = MultinomialNB()\n",
    "    print(\"Training Naive Bayes for %s \" %(k))\n",
    "    model.fit(X_train_cnt,y_train)\n",
    "    y_preds = model.predict(X_test_cnt)\n",
    "    accuracy = balanced_accuracy_score(y_test,y_preds)\n",
    "    print(\"Accuracy of NB for test data {:0.4f}\".format(accuracy))\n",
    "\n",
    "    #2-LogRec\n",
    "    print(\"Training LogRec for %s \" %(k))\n",
    "    model_lr = LogisticRegression(solver = 'sag',\n",
    "                              multi_class='multinomial',\n",
    "                              max_iter=400,\n",
    "                              class_weight=\"balanced\", \n",
    "                              C=0.005)\n",
    "    model_lr.fit(X_train_cnt,y_train)\n",
    "    y_preds = model_lr.predict(X_test_cnt)\n",
    "    accuracy = balanced_accuracy_score(y_test,y_preds)\n",
    "    print(\"Accuracy of LogRec for test data {:0.4f}\".format(accuracy))"
   ]
  },
  {
   "cell_type": "markdown",
   "metadata": {
    "colab_type": "text",
    "id": "TjiXWh_vDf8o"
   },
   "source": [
    "## KNN Classifier"
   ]
  },
  {
   "cell_type": "code",
   "execution_count": null,
   "metadata": {
    "colab": {},
    "colab_type": "code",
    "id": "cjwWWAya3rzl"
   },
   "outputs": [],
   "source": [
    "model = KNeighborsClassifier(n_neighbors = 3)\n",
    "\n",
    "kfolds = StratifiedKFold(n_splits=n_splits, shuffle=shuffle_flag, random_state=seed)\n",
    "\n",
    "results_knn = cross_validate(model, X_train_cnt,y_train, cv=kfolds, \n",
    "                          scoring=scoring, n_jobs=-1)"
   ]
  },
  {
   "cell_type": "code",
   "execution_count": null,
   "metadata": {
    "colab": {
     "base_uri": "https://localhost:8080/",
     "height": 69
    },
    "colab_type": "code",
    "id": "i9VGElPO5Sgh",
    "outputId": "a76bf6d1-e256-4d43-c174-a277d5049766"
   },
   "outputs": [
    {
     "name": "stdout",
     "output_type": "stream",
     "text": [
      "CV Accuracy: 0.1569 (+/- 0.0033)\n",
      "CV F1: 0.1569 (+/- 0.0033)\n",
      "CV Logloss: 22.1406 (+/- 0.1179)\n"
     ]
    }
   ],
   "source": [
    "print(\"CV Accuracy: {:0.4f} (+/- {:0.4f})\".format(np.mean(results_knn['test_acc']),\n",
    "                                                          np.std(results_knn['test_acc'])))\n",
    "\n",
    "print(\"CV F1: {:0.4f} (+/- {:0.4f})\".format(np.mean(results_knn['test_f1_micro']),\n",
    "                                                          np.std(results_knn['test_f1_micro'])))\n",
    "\n",
    "print(\"CV Logloss: {:0.4f} (+/- {:0.4f})\".format(np.mean(-1*results_knn['test_neg_log_loss']),\n",
    "                                                          np.std(-1*results_knn['test_neg_log_loss'])))"
   ]
  },
  {
   "cell_type": "code",
   "execution_count": null,
   "metadata": {
    "colab": {
     "base_uri": "https://localhost:8080/",
     "height": 34
    },
    "colab_type": "code",
    "id": "TcQELJQJ_3Wo",
    "outputId": "d09483fd-07e7-43ee-ea9a-4d283e62de4a"
   },
   "outputs": [
    {
     "name": "stdout",
     "output_type": "stream",
     "text": [
      "Accuracy for test data 0.0667\n"
     ]
    }
   ],
   "source": [
    "# Make prediction with fit model\n",
    "model.fit(X_train_cnt,y_train)\n",
    "y_preds = model.predict(X_test_cnt)\n",
    "accuracy = balanced_accuracy_score(y_test,y_preds)\n",
    "print(\"Accuracy for test data {:0.4f}\".format(accuracy))"
   ]
  },
  {
   "cell_type": "markdown",
   "metadata": {
    "colab_type": "text",
    "id": "Gj8jZJiBD015"
   },
   "source": [
    "## Plot Confusion Matrix for Logistic Regression"
   ]
  },
  {
   "cell_type": "code",
   "execution_count": null,
   "metadata": {
    "colab": {},
    "colab_type": "code",
    "id": "UpJUiqKOM1NT"
   },
   "outputs": [],
   "source": [
    "cnf_matrix = confusion_matrix(y_test, y_preds)\n",
    "classes = ['INFJ', 'ENTP', 'INTP', 'INTJ', 'ENTJ', 'ENFJ', 'INFP', 'ENFP', 'ISFP', 'ISTP', 'ISFJ', 'ISTJ', 'ESTP', 'ESFP', 'ESTJ', 'ESFJ'] \n",
    "lab_encoder = LabelEncoder().fit(classes)\n",
    "classes=lab_encoder.inverse_transform(range(16))\n",
    "title = \"Confusion Matrix\""
   ]
  },
  {
   "cell_type": "code",
   "execution_count": null,
   "metadata": {
    "colab": {
     "base_uri": "https://localhost:8080/",
     "height": 768
    },
    "colab_type": "code",
    "id": "Ycd3VXM0NT2B",
    "outputId": "5ea6ad4d-f47e-4063-f158-52dd5f648a8f"
   },
   "outputs": [
    {
     "data": {
      "text/plain": [
       "Text(0.5, 47.975689975440226, 'Predicted label')"
      ]
     },
     "execution_count": 148,
     "metadata": {
      "tags": []
     },
     "output_type": "execute_result"
    },
    {
     "data": {
      "image/png": "[encoded data removed]",
      "text/plain": [
       "<Figure size 1008x720 with 2 Axes>"
      ]
     },
     "metadata": {
      "needs_background": "light",
      "tags": []
     },
     "output_type": "display_data"
    }
   ],
   "source": [
    "plt.figure(figsize=(14,10))\n",
    "plt.imshow(cnf_matrix, interpolation='nearest', cmap=cmap)\n",
    "plt.title(title)\n",
    "plt.colorbar()\n",
    "tick_marks = np.arange(len(classes))\n",
    "plt.xticks(tick_marks, classes, rotation=45, fontsize=12)\n",
    "plt.yticks(tick_marks, classes, fontsize=12)\n",
    "\n",
    "plt.tight_layout()\n",
    "plt.ylabel('True label',fontsize=18)\n",
    "plt.xlabel('Predicted label',fontsize=18)"
   ]
  }
 ],
 "metadata": {
  "colab": {
   "collapsed_sections": [],
   "name": "BaselineModels.ipynb",
   "provenance": []
  },
  "kernelspec": {
   "display_name": "Python 3",
   "language": "python",
   "name": "python3"
  },
  "language_info": {
   "codemirror_mode": {
    "name": "ipython",
    "version": 3
   },
   "file_extension": ".py",
   "mimetype": "text/x-python",
   "name": "python",
   "nbconvert_exporter": "python",
   "pygments_lexer": "ipython3",
   "version": "3.6.8"
  }
 },
 "nbformat": 4,
 "nbformat_minor": 1
}
