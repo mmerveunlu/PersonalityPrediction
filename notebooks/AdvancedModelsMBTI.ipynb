{
 "cells": [
  {
   "cell_type": "markdown",
   "metadata": {
    "colab_type": "text",
    "id": "metzRQpHqgFC"
   },
   "source": [
    "This notebook contains advanced model for personality prediction \n",
    "using MBTI dataset. \n",
    "\n",
    "The Myers Briggs Type Indicator (or MBTI for short) is a personality type system that divides everyone into 16 distinct personality types across 4 axis:\n",
    "* Introversion (I) – Extroversion (E)\n",
    "* Intuition (N) – Sensing (S)\n",
    "* Thinking (T) – Feeling (F)\n",
    "* Judging (J) – Perceiving (P)\n",
    "\n",
    "In the dataset, there are 8600 rows of data. Each row contains a person's MBTI personality class and the last 50 things that he/she posted in PersonalityCafe Forum. \n",
    "\n"
   ]
  },
  {
   "cell_type": "code",
   "execution_count": 2,
   "metadata": {
    "colab": {},
    "colab_type": "code",
    "id": "vSK2As5HnTmh"
   },
   "outputs": [],
   "source": [
    "# import libraries \n",
    "from os.path import join\n",
    "import matplotlib.pyplot as plt\n",
    "\n",
    "\n",
    "import json \n",
    "import pandas as pd\n",
    "import numpy as np\n",
    "from sklearn.model_selection import train_test_split\n",
    "seed = 123\n",
    "from keras.models import Sequential\n",
    "from keras.layers import Dense, LSTM, Bidirectional, GRU, SimpleRNN\n",
    "from keras.layers.embeddings import Embedding\n",
    "from keras.preprocessing import sequence\n",
    "from keras.preprocessing import text\n",
    "from keras.optimizers import Adam\n",
    "from sklearn.feature_extraction.text import CountVectorizer\n",
    "from sklearn.model_selection import StratifiedKFold\n",
    "from keras.wrappers.scikit_learn import KerasClassifier\n",
    "from sklearn.model_selection import cross_val_score\n",
    "from keras.utils import to_categorical\n",
    "from keras.preprocessing import text\n",
    "from keras.preprocessing import sequence\n",
    "from keras import layers\n",
    "import zipfile\n"
   ]
  },
  {
   "cell_type": "code",
   "execution_count": 3,
   "metadata": {
    "colab": {},
    "colab_type": "code",
    "id": "YxLSQGhmquft"
   },
   "outputs": [],
   "source": [
    "# Define constants \n",
    "data_folder = \"\"\n",
    "raw_data_file = \"mbti_1.csv\"\n",
    "punc_data_file = join(data_folder,\"preprocessed_data_punc.json\")\n",
    "links_data_file = join(data_folder,\"preprocessed_data_links.json\")\n",
    "letter_data_file = join(data_folder,\"preprocessed_data_letters.json\")\n",
    "type_data_file = join(data_folder,\"preprocessed_data_type.json\")\n",
    "prep_data_file = join(data_folder,\"preprocessed_data_all.json\")\n",
    "none_data_file = join(data_folder,\"preprocessed_data_none.json\")\n",
    "\n",
    "n_splits = 5 # number of splits for cross-validation\n",
    "shuffle_flag = True \n",
    "\n",
    "scoring = {'acc': 'accuracy',\n",
    "           'neg_log_loss': 'neg_log_loss',\n",
    "           'f1_micro': 'f1_micro'}"
   ]
  },
  {
   "cell_type": "code",
   "execution_count": 4,
   "metadata": {
    "colab": {},
    "colab_type": "code",
    "id": "NOiPfRwKqwaT"
   },
   "outputs": [],
   "source": [
    "# define functions \n",
    "def read_dataset(filepath):\n",
    "    with open(filepath) as fp:\n",
    "        return json.load(fp)\n",
    "\n",
    "plt.style.use('ggplot')\n",
    "\n",
    "def plot_history(history):\n",
    "    acc = None \n",
    "    val_acc = None \n",
    "    loss = None \n",
    "    val_loss = None \n",
    "    if \"accuracy\" in history.history.keys():\n",
    "        acc = history.history['accuracy']\n",
    "    elif \"acc\" in history.history.keys():\n",
    "        acc = history.history['acc']\n",
    "    if \"val_accuracy\" in history.history.keys():  \n",
    "        val_acc = history.history['val_accuracy']\n",
    "    if 'loss' in history.history.keys():\n",
    "        loss = history.history['loss']\n",
    "    if 'val_loss' in history.history.keys():\n",
    "        val_loss = history.history['val_loss']\n",
    "    x = range(1, len(acc) + 1)\n",
    "\n",
    "    plt.figure(figsize=(12, 5))\n",
    "    plt.subplot(1, 2, 1)\n",
    "    title = \"\"\n",
    "    if acc:\n",
    "        plt.plot(x, acc, 'b', label='Training acc')\n",
    "        title += \"Training\" \n",
    "    if val_acc: \n",
    "        plt.plot(x, val_acc, 'r', label='Validation acc')\n",
    "        title += \" and validation\"\n",
    "    title += \" accuracy\"\n",
    "    plt.title(title)\n",
    "    plt.legend()\n",
    "    plt.subplot(1, 2, 2)\n",
    "    title = \"\"\n",
    "    if loss: \n",
    "        plt.plot(x, loss, 'b', label='Training loss')\n",
    "        title += \"Training\"\n",
    "    if val_loss: \n",
    "        plt.plot(x, val_loss, 'r', label='Validation loss')\n",
    "        title += \" and validation\"\n",
    "    title += \" loss\"\n",
    "    plt.title(title)\n",
    "    plt.legend()\n"
   ]
  },
  {
   "cell_type": "markdown",
   "metadata": {
    "colab_type": "text",
    "id": "y6P-39DMrD49"
   },
   "source": [
    "## Prepare Data"
   ]
  },
  {
   "cell_type": "code",
   "execution_count": 30,
   "metadata": {
    "colab": {},
    "colab_type": "code",
    "id": "fCzL6i-6wLUX"
   },
   "outputs": [],
   "source": [
    "# define constant \n",
    "# The maximum number of words to be used. (most frequent)\n",
    "MAX_NB_WORDS = 50000\n",
    "# Max number of words in each complaint.\n",
    "MAX_SEQUENCE_LENGTH = 1000\n",
    "# This is fixed.\n",
    "EMBEDDING_DIM = 100\n",
    "padding_place = 'post'\n",
    "DROPOUT = 0.6\n",
    "LEARNING_RATE = 0.001\n",
    "max_features_dim = 5000\n",
    "input_dim = 5000\n",
    "output_dim = 16 \n",
    "hidden_dim = 8\n",
    "n_splits = 5 \n",
    "shuffle_flag = True "
   ]
  },
  {
   "cell_type": "code",
   "execution_count": 22,
   "metadata": {
    "colab": {},
    "colab_type": "code",
    "id": "5nug_H_QvxES"
   },
   "outputs": [],
   "source": [
    "def prepare_data(data_file, \n",
    "                 max_sent_len=100, \n",
    "                 json_flag=False,\n",
    "                 padding_place='post',\n",
    "                 max_nb_words = 50000,\n",
    "                 test_size=0.2):\n",
    "    \"\"\" for a given datafile reads the content and returns \n",
    "      posts and labels \n",
    "      @data_file: string, the path of the file \n",
    "      @json_flag: bool, True if given file is in json format\n",
    "      @max_features: int, number of features in tf-idf\n",
    "      Returns \n",
    "      @X_train_cnt: tf-idf vectors of training posts  \n",
    "      @X_tes_cnt: tf-idf vectors of test posts\n",
    "      @y_train: int, train labels \n",
    "      @y_test: int, test labels\n",
    "    \"\"\"\n",
    "    if json_flag:\n",
    "        dataset = read_dataset(data_file)\n",
    "        posts = list(dataset['posts'])\n",
    "        labels = list(dataset['types'])\n",
    "    else:\n",
    "        dataset = pd.read_csv(data_file)\n",
    "        posts = list(dataset['posts'].values)\n",
    "        labels = list(dataset['type'].values)\n",
    "    print(\"The number of data %d \" %(len(posts)))\n",
    "    print(\"Example from dataset\")\n",
    "    print(posts[0][0:50]) \n",
    "    print(\"For type %s\" %(labels[0]))\n",
    "    posts = [p.lower() for p in posts]\n",
    "    #return posts, labels\n",
    "\n",
    "    # get the vocabulary \n",
    "    vocabulary = []\n",
    "    for p in posts:\n",
    "        for word in p.split():\n",
    "            vocabulary.append(word)\n",
    "        if len(p.split())> max_sent_len:\n",
    "            max_sent_len = len(p.split())  \n",
    "    vocabulary = set(vocabulary)\n",
    "    print(\"The vocabulary size is  %d \" %(len(vocabulary)))\n",
    "    print(\"The maximum post length is %d \" %(max_sent_len))\n",
    "\n",
    "    tokenizer = text.Tokenizer(num_words=max_nb_words,\n",
    "                               lower=True,\n",
    "                               split=\" \")\n",
    "    tokenizer.fit_on_texts(posts)\n",
    "    word_index = tokenizer.word_index\n",
    "    print('Found %s unique tokens.' % len(word_index))\n",
    "\n",
    "    tokenized_X = tokenizer.texts_to_sequences(posts)\n",
    "    print(\"Example from tokenized X \")\n",
    "    print(tokenized_X[0][0:50])\n",
    "\n",
    "    padded_X = sequence.pad_sequences(tokenized_X,\n",
    "                                      maxlen=max_sent_len, \n",
    "                                      padding=padding_place)\n",
    "    print('Shape of data tensor after tokenization and padding:', padded_X.shape)\n",
    "\n",
    "    vocab_size = len(tokenizer.word_index) + 1  # Adding 1 because of reserved 0 index\n",
    "    print(\"Vocabulary Size %d \" %(vocab_size))\n",
    "\n",
    "    # train-test split for deep learning methods\n",
    "\n",
    "    y_binarized_labels = to_categorical(labels)\n",
    "\n",
    "    X_train_pad, X_test_pad, y_train_pad, y_test_pad = train_test_split(padded_X,\n",
    "                                                                        y_binarized_labels, \n",
    "                                                                        test_size=test_size, \n",
    "                                                                        random_state=seed)\n",
    "    print(\"Number of examples in train set %d \" %(len(X_train_pad)))\n",
    "    print(\"The shape of X training tensor (%d,%d) \" %(X_train_pad.shape))\n",
    "    print(\"The shape of y training tensor (%d,%d) \" %(y_train_pad.shape))\n",
    "\n",
    "    print(\"Number of examples in test set %d \" %(len(X_test_pad)))\n",
    "    print(\"The shape of X test tensor (%d,%d)\" %(X_test_pad.shape))\n",
    "    return X_train_pad, X_test_pad, y_train_pad, y_test_pad , vocab_size, tokenizer"
   ]
  },
  {
   "cell_type": "code",
   "execution_count": 7,
   "metadata": {
    "colab": {},
    "colab_type": "code",
    "id": "fA-a7UW70DAG"
   },
   "outputs": [],
   "source": [
    "def prepare_data_tfidf(data_file, max_features= 5000, json_flag=False):\n",
    "    \"\"\" for a given datafile reads the content and returns \n",
    "      posts and labels \n",
    "      @data_file: string, the path of the file \n",
    "      @json_flag: bool, True if given file is in json format\n",
    "      @max_features: int, number of features in tf-idf\n",
    "      Returns \n",
    "      @X_train_cnt: tf-idf vectors of training posts  \n",
    "      @X_tes_cnt: tf-idf vectors of test posts\n",
    "      @y_train: int, train labels \n",
    "      @y_test: int, test labels\n",
    "    \"\"\"\n",
    "    if json_flag:\n",
    "        dataset = read_dataset(data_file)\n",
    "        posts = list(dataset['posts'])\n",
    "        labels = list(dataset['types'])\n",
    "    else:\n",
    "        dataset = pd.read_csv(data_file)\n",
    "        posts = list(dataset['posts'].values)\n",
    "        labels = list(dataset['type'].values)\n",
    "    print(\"The number of data %d \" %(len(posts)))\n",
    "    print(\"Example from dataset\")\n",
    "    print(posts[0][0:50]) \n",
    "    print(\"For type %s\" %(labels[0]))\n",
    "    posts = [p.lower() for p in posts]\n",
    "    #return posts, labels \n",
    "\n",
    "    # train-test split \n",
    "    X = np.array(posts)\n",
    "    y = np.array(labels)\n",
    "    X_train, X_test, y_train, y_test = train_test_split(posts, labels, \n",
    "                                                    test_size=0.2, \n",
    "                                                    random_state=seed)\n",
    "    print(\"Number of examples in train set %d \" %(len(X_train)))\n",
    "    print(\"Number of examples in test set %d \" %(len(X_test)))\n",
    "\n",
    "    # create a matrix of numbers to represent posts\n",
    "    tfidf2 = CountVectorizer(ngram_range=(1, 1), \n",
    "                         stop_words='english',\n",
    "                         lowercase = False, \n",
    "                         max_features = max_features)\n",
    "\n",
    "    X_train_cnt = tfidf2.fit_transform(X_train)\n",
    "    X_test_cnt = tfidf2.transform(X_test)\n",
    "\n",
    "    # binarizer 16 classes \n",
    "    y_binary = to_categorical(y_train)\n",
    "    y_test_binary = to_categorical(y_test)  \n",
    "    return X_train_cnt, X_test_cnt, y_binary, y_test_binary"
   ]
  },
  {
   "cell_type": "code",
   "execution_count": 31,
   "metadata": {
    "colab": {
     "base_uri": "https://localhost:8080/",
     "height": 315
    },
    "colab_type": "code",
    "id": "KTT_PQZFwIw7",
    "outputId": "7168db7e-8afe-47ce-936d-f47b1fe2fd3d"
   },
   "outputs": [
    {
     "name": "stdout",
     "output_type": "stream",
     "text": [
      "The number of data 8675 \n",
      "Example from dataset\n",
      "  http   www youtube com watch v qsxhcwe krw http \n",
      "For type 8\n",
      "The vocabulary size is  121112 \n",
      "The maximum post length is 956 \n",
      "Found 121112 unique tokens.\n",
      "Example from tokenized X \n",
      "[11, 30, 31, 12, 26, 27, 11, 395, 451, 12, 451, 9101, 151, 84, 56, 293, 11, 30, 31, 12, 26, 27, 11809, 227, 651, 11810, 552, 1651, 243, 11, 30, 31, 12, 26, 27, 5690, 35, 1318, 143, 35, 11, 30, 31, 12, 26, 27, 11, 30, 31, 12]\n",
      "Shape of data tensor after tokenization and padding: (8675, 956)\n",
      "Vocabulary Size 121113 \n",
      "Number of examples in train set 6940 \n",
      "The shape of X training tensor (6940,956) \n",
      "The shape of y training tensor (6940,16) \n",
      "Number of examples in test set 1735 \n",
      "The shape of X test tensor (1735,956)\n"
     ]
    }
   ],
   "source": [
    "X_train,X_test,y_train,y_test,vocab_size,tokenizer =  prepare_data(letter_data_file,json_flag=True)"
   ]
  },
  {
   "cell_type": "code",
   "execution_count": 9,
   "metadata": {
    "colab": {
     "base_uri": "https://localhost:8080/",
     "height": 121
    },
    "colab_type": "code",
    "id": "eTMPU8Gn1ZRY",
    "outputId": "a1890bd5-20d3-4db2-8d58-71d9071c454f"
   },
   "outputs": [
    {
     "name": "stdout",
     "output_type": "stream",
     "text": [
      "The number of data 8675 \n",
      "Example from dataset\n",
      "  http   www youtube com watch v qsxhcwe krw http \n",
      "For type 8\n",
      "Number of examples in train set 6940 \n",
      "Number of examples in test set 1735 \n"
     ]
    }
   ],
   "source": [
    "X_train_cnt,X_test_cnt,y_train_cnt,y_test_cnt =  prepare_data_tfidf(letter_data_file,\n",
    "                                                                    max_features_dim,\n",
    "                                                                    True)"
   ]
  },
  {
   "cell_type": "markdown",
   "metadata": {
    "colab_type": "text",
    "id": "DcIg-fa7s6lU"
   },
   "source": [
    "## Using TfIdf as features for deep learning methods\n"
   ]
  },
  {
   "cell_type": "code",
   "execution_count": 10,
   "metadata": {
    "colab": {},
    "colab_type": "code",
    "id": "BEaUqcrXsawU"
   },
   "outputs": [],
   "source": [
    "# define baseline model\n",
    "def baseline_model(input_dim,output_dim,hidden_dim):\n",
    "\t# create model\n",
    "\tmodel = Sequential()\n",
    "\tmodel.add(Dense(hidden_dim, input_dim=input_dim, activation='relu'))\n",
    "\tmodel.add(Dense(output_dim, activation='softmax'))\n",
    "\t# Compile model\n",
    "\tmodel.compile(loss='categorical_crossentropy', optimizer='adam', metrics=['accuracy'])\n",
    "\treturn model"
   ]
  },
  {
   "cell_type": "code",
   "execution_count": 12,
   "metadata": {
    "colab": {
     "base_uri": "https://localhost:8080/",
     "height": 52
    },
    "colab_type": "code",
    "id": "emE5raGoxAIB",
    "outputId": "b18e27fa-7d9a-4627-d4cd-17749c8b5bfb"
   },
   "outputs": [
    {
     "name": "stdout",
     "output_type": "stream",
     "text": [
      "Training Accuracy: 0.9491\n",
      "Testing Accuracy:  0.5378\n"
     ]
    }
   ],
   "source": [
    "model = baseline_model(input_dim,output_dim,hidden_dim)\n",
    "\n",
    "history = model.fit(X_train_cnt, y_train_cnt,\n",
    "                    epochs=10,\n",
    "                    verbose=False,\n",
    "                    batch_size=10,\n",
    "                    validation_split=0.1)\n",
    "loss, accuracy = model.evaluate(X_train_cnt, y_train_cnt, verbose=False)\n",
    "print(\"Training Accuracy: {:.4f}\".format(accuracy))\n",
    "loss, accuracy = model.evaluate(X_test_cnt, y_test_cnt, verbose=False)\n",
    "print(\"Testing Accuracy:  {:.4f}\".format(accuracy))"
   ]
  },
  {
   "cell_type": "code",
   "execution_count": 13,
   "metadata": {
    "colab": {
     "base_uri": "https://localhost:8080/",
     "height": 337
    },
    "colab_type": "code",
    "id": "gcnwZXN3sT1g",
    "outputId": "d6f13a2f-c295-4704-f273-062b3fc3b94d"
   },
   "outputs": [
    {
     "data": {
      "image/png": "[encoded data removed]",
      "text/plain": [
       "<Figure size 864x360 with 2 Axes>"
      ]
     },
     "metadata": {
      "tags": []
     },
     "output_type": "display_data"
    }
   ],
   "source": [
    "plot_history(history) "
   ]
  },
  {
   "cell_type": "markdown",
   "metadata": {
    "colab_type": "text",
    "id": "qsC_iQyK5kpX"
   },
   "source": [
    "## Using Word Embeddings  "
   ]
  },
  {
   "cell_type": "code",
   "execution_count": 14,
   "metadata": {
    "colab": {},
    "colab_type": "code",
    "id": "WMLMMJmb5mcs"
   },
   "outputs": [],
   "source": [
    "def simple_embedding_model(input_dim, hidden_dim, input_length, output_dim):\n",
    "  model = Sequential()\n",
    "  model.add(layers.Embedding(input_dim=input_dim, \n",
    "                            output_dim=hidden_dim, \n",
    "                            input_length=input_length))\n",
    "  model.add(layers.Flatten())\n",
    "  model.add(layers.Dense(hidden_dim, activation='relu'))\n",
    "  model.add(Dense(output_dim, activation='softmax'))\n",
    "  model.compile(loss='categorical_crossentropy', optimizer='adam', metrics=['accuracy'])\n",
    "  #model.summary()\n",
    "  return model \n"
   ]
  },
  {
   "cell_type": "code",
   "execution_count": 15,
   "metadata": {
    "colab": {
     "base_uri": "https://localhost:8080/",
     "height": 618
    },
    "colab_type": "code",
    "id": "D6EL6HSU6YVO",
    "outputId": "b8cdcfbb-4c49-41a4-a551-15309b69d0a2"
   },
   "outputs": [
    {
     "name": "stderr",
     "output_type": "stream",
     "text": [
      "/usr/local/lib/python3.6/dist-packages/tensorflow/python/framework/indexed_slices.py:434: UserWarning: Converting sparse IndexedSlices to a dense Tensor of unknown shape. This may consume a large amount of memory.\n",
      "  \"Converting sparse IndexedSlices to a dense Tensor of unknown shape. \"\n"
     ]
    },
    {
     "name": "stdout",
     "output_type": "stream",
     "text": [
      "Train on 6246 samples, validate on 694 samples\n",
      "Epoch 1/5\n",
      "6246/6246 [==============================] - 2s 387us/step - loss: 2.6370 - accuracy: 0.1335 - val_loss: 2.5153 - val_accuracy: 0.1571\n",
      "Epoch 2/5\n",
      "6246/6246 [==============================] - 2s 374us/step - loss: 2.3779 - accuracy: 0.2269 - val_loss: 2.3078 - val_accuracy: 0.2695\n",
      "Epoch 3/5\n",
      "6246/6246 [==============================] - 2s 361us/step - loss: 2.0806 - accuracy: 0.3180 - val_loss: 2.1032 - val_accuracy: 0.2997\n",
      "Epoch 4/5\n",
      "6246/6246 [==============================] - 2s 368us/step - loss: 1.7205 - accuracy: 0.4814 - val_loss: 1.9997 - val_accuracy: 0.3156\n",
      "Epoch 5/5\n",
      "6246/6246 [==============================] - 2s 362us/step - loss: 1.2821 - accuracy: 0.6084 - val_loss: 2.0002 - val_accuracy: 0.3473\n",
      "Training Accuracy: 0.6677\n",
      "Testing Accuracy:  0.3464\n"
     ]
    },
    {
     "data": {
      "image/png": "[encoded data removed]",
      "text/plain": [
       "<Figure size 864x360 with 2 Axes>"
      ]
     },
     "metadata": {
      "tags": []
     },
     "output_type": "display_data"
    }
   ],
   "source": [
    "model = simple_embedding_model(input_dim=vocab_size,\n",
    "                               hidden_dim=hidden_dim,\n",
    "                               input_length = X_train.shape[1],\n",
    "                               output_dim = 16)\n",
    "\n",
    "history = model.fit(X_train, y_train,\n",
    "                    epochs=5,\n",
    "                    verbose=True,\n",
    "                    batch_size=50,\n",
    "                    validation_split = 0.1)\n",
    "\n",
    "loss, accuracy = model.evaluate(X_train, y_train, verbose=False)\n",
    "print(\"Training Accuracy: {:.4f}\".format(accuracy))\n",
    "loss, accuracy = model.evaluate(X_test, y_test, verbose=False)\n",
    "print(\"Testing Accuracy:  {:.4f}\".format(accuracy))\n",
    "plot_history(history)"
   ]
  },
  {
   "cell_type": "code",
   "execution_count": 18,
   "metadata": {
    "colab": {},
    "colab_type": "code",
    "id": "Wm8C5ezQEl4h"
   },
   "outputs": [],
   "source": [
    "def lstm_model(input_dim,\n",
    "               hidden_dim, \n",
    "               input_length,\n",
    "               output_dim, \n",
    "               dropout =0.2,\n",
    "               learning_rate = 0.2):\n",
    "  model = Sequential()\n",
    "  model.add(Embedding(input_dim,\n",
    "                      hidden_dim, \n",
    "                      input_length=input_length, \n",
    "                      mask_zero=True, \n",
    "                      trainable=True))\n",
    "  model.add(LSTM(hidden_dim,\n",
    "                 dropout=dropout, \n",
    "                 recurrent_dropout=dropout, \n",
    "                 activation='sigmoid',\n",
    "                 kernel_initializer='zeros'))\n",
    "  model.add(Dense(output_dim, activation='softmax'))\n",
    "  optimizer = Adam(lr=learning_rate, beta_1=0.9, beta_2=0.999, epsilon=1e-8)\n",
    "  model.compile(loss='categorical_crossentropy', optimizer=optimizer, metrics=['accuracy'])\n",
    "  return model \n",
    "  "
   ]
  },
  {
   "cell_type": "code",
   "execution_count": 19,
   "metadata": {
    "colab": {
     "base_uri": "https://localhost:8080/",
     "height": 1000
    },
    "colab_type": "code",
    "id": "r-zMAeNyI0QZ",
    "outputId": "f5e1ef8e-4e99-48f2-8ceb-8f3505f666ea"
   },
   "outputs": [
    {
     "name": "stderr",
     "output_type": "stream",
     "text": [
      "/usr/local/lib/python3.6/dist-packages/tensorflow/python/framework/indexed_slices.py:434: UserWarning: Converting sparse IndexedSlices to a dense Tensor of unknown shape. This may consume a large amount of memory.\n",
      "  \"Converting sparse IndexedSlices to a dense Tensor of unknown shape. \"\n"
     ]
    },
    {
     "name": "stdout",
     "output_type": "stream",
     "text": [
      "Train on 6246 samples, validate on 694 samples\n",
      "Epoch 1/20\n",
      "6246/6246 [==============================] - 80s 13ms/step - loss: 2.3362 - accuracy: 0.1945 - val_loss: 2.2983 - val_accuracy: 0.1888\n",
      "Epoch 2/20\n",
      "6246/6246 [==============================] - 79s 13ms/step - loss: 2.3156 - accuracy: 0.1894 - val_loss: 2.3415 - val_accuracy: 0.1859\n",
      "Epoch 3/20\n",
      "6246/6246 [==============================] - 82s 13ms/step - loss: 2.3290 - accuracy: 0.1897 - val_loss: 2.3259 - val_accuracy: 0.2118\n",
      "Epoch 4/20\n",
      "6246/6246 [==============================] - 79s 13ms/step - loss: 2.3065 - accuracy: 0.2027 - val_loss: 2.3987 - val_accuracy: 0.1700\n",
      "Epoch 5/20\n",
      "6246/6246 [==============================] - 79s 13ms/step - loss: 2.2813 - accuracy: 0.2118 - val_loss: 2.3969 - val_accuracy: 0.1873\n",
      "Epoch 6/20\n",
      "6246/6246 [==============================] - 79s 13ms/step - loss: 2.2829 - accuracy: 0.2166 - val_loss: 2.3850 - val_accuracy: 0.2089\n",
      "Epoch 7/20\n",
      "6246/6246 [==============================] - 78s 13ms/step - loss: 2.2749 - accuracy: 0.2200 - val_loss: 2.4253 - val_accuracy: 0.1628\n",
      "Epoch 8/20\n",
      "6246/6246 [==============================] - 79s 13ms/step - loss: 2.2597 - accuracy: 0.2240 - val_loss: 2.4271 - val_accuracy: 0.1700\n",
      "Epoch 9/20\n",
      "6246/6246 [==============================] - 79s 13ms/step - loss: 2.2927 - accuracy: 0.2157 - val_loss: 2.4868 - val_accuracy: 0.1974\n",
      "Epoch 10/20\n",
      "6246/6246 [==============================] - 79s 13ms/step - loss: 2.2856 - accuracy: 0.2187 - val_loss: 2.4810 - val_accuracy: 0.1326\n",
      "Epoch 11/20\n",
      "6246/6246 [==============================] - 82s 13ms/step - loss: 2.2631 - accuracy: 0.2225 - val_loss: 2.4774 - val_accuracy: 0.1455\n",
      "Epoch 12/20\n",
      "6246/6246 [==============================] - 80s 13ms/step - loss: 2.2660 - accuracy: 0.2286 - val_loss: 2.4414 - val_accuracy: 0.1902\n",
      "Epoch 13/20\n",
      "6246/6246 [==============================] - 79s 13ms/step - loss: 2.2656 - accuracy: 0.2281 - val_loss: 2.4403 - val_accuracy: 0.1715\n",
      "Epoch 14/20\n",
      "6246/6246 [==============================] - 79s 13ms/step - loss: 2.2434 - accuracy: 0.2293 - val_loss: 2.4502 - val_accuracy: 0.2089\n",
      "Epoch 15/20\n",
      "6246/6246 [==============================] - 79s 13ms/step - loss: 2.2308 - accuracy: 0.2422 - val_loss: 2.4759 - val_accuracy: 0.1513\n",
      "Epoch 16/20\n",
      "6246/6246 [==============================] - 79s 13ms/step - loss: 2.2309 - accuracy: 0.2418 - val_loss: 2.4641 - val_accuracy: 0.2075\n",
      "Epoch 17/20\n",
      "6246/6246 [==============================] - 79s 13ms/step - loss: 2.2117 - accuracy: 0.2562 - val_loss: 2.5150 - val_accuracy: 0.1873\n",
      "Epoch 18/20\n",
      "6246/6246 [==============================] - 78s 13ms/step - loss: 2.2165 - accuracy: 0.2496 - val_loss: 2.4481 - val_accuracy: 0.1859\n",
      "Epoch 19/20\n",
      "6246/6246 [==============================] - 79s 13ms/step - loss: 2.2176 - accuracy: 0.2475 - val_loss: 2.4516 - val_accuracy: 0.1787\n",
      "Epoch 20/20\n",
      "6246/6246 [==============================] - 80s 13ms/step - loss: 2.2151 - accuracy: 0.2518 - val_loss: 2.5120 - val_accuracy: 0.1671\n",
      "Training Accuracy: 0.2434\n",
      "Testing Accuracy:  0.1620\n"
     ]
    },
    {
     "data": {
      "image/png": "[encoded data removed]",
      "text/plain": [
       "<Figure size 864x360 with 2 Axes>"
      ]
     },
     "metadata": {
      "tags": []
     },
     "output_type": "display_data"
    }
   ],
   "source": [
    "model = lstm_model(input_dim=vocab_size,\n",
    "                   hidden_dim=hidden_dim,\n",
    "                   input_length = X_train.shape[1],\n",
    "                   output_dim = 16)\n",
    "\n",
    "history = model.fit(X_train, y_train,\n",
    "                    epochs=20,\n",
    "                    verbose=True,\n",
    "                    batch_size=50,\n",
    "                    validation_split=0.1)\n",
    "\n",
    "loss, accuracy = model.evaluate(X_train, y_train, verbose=False)\n",
    "print(\"Training Accuracy: {:.4f}\".format(accuracy))\n",
    "loss, accuracy = model.evaluate(X_test, y_test, verbose=False)\n",
    "print(\"Testing Accuracy:  {:.4f}\".format(accuracy))\n",
    "plot_history(history)"
   ]
  },
  {
   "cell_type": "markdown",
   "metadata": {
    "colab_type": "text",
    "id": "yu3qhm5doPWn"
   },
   "source": [
    "## Using Pre-trained word embeddings \n"
   ]
  },
  {
   "cell_type": "code",
   "execution_count": 21,
   "metadata": {
    "colab": {
     "base_uri": "https://localhost:8080/",
     "height": 364
    },
    "colab_type": "code",
    "id": "EyfwC99AogP3",
    "outputId": "869fd97f-ee82-4263-b95c-183a0b4d45d1"
   },
   "outputs": [
    {
     "name": "stdout",
     "output_type": "stream",
     "text": [
      "--2020-06-22 17:41:35--  http://nlp.stanford.edu/data/glove.6B.zip\n",
      "Resolving nlp.stanford.edu (nlp.stanford.edu)... 171.64.67.140\n",
      "Connecting to nlp.stanford.edu (nlp.stanford.edu)|171.64.67.140|:80... connected.\n",
      "HTTP request sent, awaiting response... 302 Found\n",
      "Location: https://nlp.stanford.edu/data/glove.6B.zip [following]\n",
      "--2020-06-22 17:41:35--  https://nlp.stanford.edu/data/glove.6B.zip\n",
      "Connecting to nlp.stanford.edu (nlp.stanford.edu)|171.64.67.140|:443... connected.\n",
      "HTTP request sent, awaiting response... 301 Moved Permanently\n",
      "Location: http://downloads.cs.stanford.edu/nlp/data/glove.6B.zip [following]\n",
      "--2020-06-22 17:41:36--  http://downloads.cs.stanford.edu/nlp/data/glove.6B.zip\n",
      "Resolving downloads.cs.stanford.edu (downloads.cs.stanford.edu)... 171.64.64.22\n",
      "Connecting to downloads.cs.stanford.edu (downloads.cs.stanford.edu)|171.64.64.22|:80... connected.\n",
      "HTTP request sent, awaiting response... 200 OK\n",
      "Length: 862182613 (822M) [application/zip]\n",
      "Saving to: ‘glove.6B.zip’\n",
      "\n",
      "glove.6B.zip        100%[===================>] 822.24M  2.09MB/s    in 6m 29s  \n",
      "\n",
      "2020-06-22 17:48:05 (2.11 MB/s) - ‘glove.6B.zip’ saved [862182613/862182613]\n",
      "\n"
     ]
    }
   ],
   "source": [
    "# get the embeddings \n",
    "! wget http://nlp.stanford.edu/data/glove.6B.zip\n",
    "folder = 'glove_folder'\n",
    "with zipfile.ZipFile(\"glove.6B.zip\",\"r\") as zip_ref:\n",
    "    zip_ref.extractall(folder)"
   ]
  },
  {
   "cell_type": "code",
   "execution_count": 32,
   "metadata": {
    "colab": {},
    "colab_type": "code",
    "id": "AMst6_LXoOni"
   },
   "outputs": [],
   "source": [
    "# from https://realpython.com/python-keras-text-classification/ \n",
    "def create_embedding_matrix(filepath, word_index, embedding_dim):\n",
    "    vocab_size = len(word_index) + 1  # Adding again 1 because of reserved 0 index\n",
    "    embedding_matrix = np.zeros((vocab_size, embedding_dim))\n",
    "\n",
    "    with open(filepath) as f:\n",
    "        for line in f:\n",
    "            word, *vector = line.split()\n",
    "            if word in word_index:\n",
    "                idx = word_index[word] \n",
    "                embedding_matrix[idx] = np.array(\n",
    "                    vector, dtype=np.float32)[:embedding_dim]\n",
    "\n",
    "    return embedding_matrix"
   ]
  },
  {
   "cell_type": "code",
   "execution_count": 33,
   "metadata": {
    "colab": {},
    "colab_type": "code",
    "id": "32UoQJufoyfq"
   },
   "outputs": [],
   "source": [
    "embedding_dim = 50\n",
    "embedding_matrix = create_embedding_matrix(\n",
    "     'glove_folder/glove.6B.50d.txt',\n",
    "     tokenizer.word_index, embedding_dim)"
   ]
  },
  {
   "cell_type": "code",
   "execution_count": 36,
   "metadata": {
    "colab": {},
    "colab_type": "code",
    "id": "6y9aU4pDpAbm"
   },
   "outputs": [],
   "source": [
    "def lstm_model_embedding(input_dim,\n",
    "              hidden_dim,\n",
    "              embedding_matrix, \n",
    "              input_length,\n",
    "              output_dim, \n",
    "              dropout = 0.2,\n",
    "              learning_rate=0.01):\n",
    "  model = Sequential()\n",
    "  model.add(Embedding(input_dim,\n",
    "                      hidden_dim, \n",
    "                      weights=[embedding_matrix], \n",
    "                      input_length=input_length,\n",
    "                      mask_zero=True, \n",
    "                      trainable=False))\n",
    "  model.add(LSTM(hidden_dim, \n",
    "                dropout=dropout, \n",
    "                recurrent_dropout=dropout, \n",
    "                activation='sigmoid',\n",
    "                kernel_initializer='zeros'))\n",
    "  model.add(Dense(output_dim, activation='softmax'))\n",
    "  optimizer = Adam(lr=learning_rate, beta_1=0.9, beta_2=0.999, epsilon=1e-8)\n",
    "  model.compile(loss='categorical_crossentropy', optimizer=optimizer, metrics=['accuracy'])\n",
    "  return model"
   ]
  },
  {
   "cell_type": "code",
   "execution_count": 41,
   "metadata": {
    "colab": {
     "base_uri": "https://localhost:8080/",
     "height": 784
    },
    "colab_type": "code",
    "id": "bapAR4ATpSBs",
    "outputId": "add32222-420f-4bf4-93f2-8b6ac9000824"
   },
   "outputs": [
    {
     "name": "stdout",
     "output_type": "stream",
     "text": [
      "Train on 6246 samples, validate on 694 samples\n",
      "Epoch 1/20\n",
      "6246/6246 [==============================] - 103s 16ms/step - loss: 2.3216 - accuracy: 0.1844 - val_loss: 2.2917 - val_accuracy: 0.2147\n",
      "Epoch 2/20\n",
      "6246/6246 [==============================] - 101s 16ms/step - loss: 2.2908 - accuracy: 0.2064 - val_loss: 2.2825 - val_accuracy: 0.2118\n",
      "Epoch 3/20\n",
      "6246/6246 [==============================] - 101s 16ms/step - loss: 2.2736 - accuracy: 0.2109 - val_loss: 2.2645 - val_accuracy: 0.2507\n",
      "Epoch 4/20\n",
      "6246/6246 [==============================] - 101s 16ms/step - loss: 2.2123 - accuracy: 0.2638 - val_loss: 2.2259 - val_accuracy: 0.2651\n",
      "Epoch 5/20\n",
      "6246/6246 [==============================] - 101s 16ms/step - loss: 2.1729 - accuracy: 0.2803 - val_loss: 2.2181 - val_accuracy: 0.2522\n",
      "Epoch 6/20\n",
      "6246/6246 [==============================] - 101s 16ms/step - loss: 2.1505 - accuracy: 0.2895 - val_loss: 2.1943 - val_accuracy: 0.2695\n",
      "Epoch 7/20\n",
      "6246/6246 [==============================] - 103s 17ms/step - loss: 2.1269 - accuracy: 0.3031 - val_loss: 2.1803 - val_accuracy: 0.2767\n",
      "Epoch 8/20\n",
      "6246/6246 [==============================] - 102s 16ms/step - loss: 2.1116 - accuracy: 0.3085 - val_loss: 2.1811 - val_accuracy: 0.2695\n",
      "Epoch 9/20\n",
      "6246/6246 [==============================] - 102s 16ms/step - loss: 2.0968 - accuracy: 0.3072 - val_loss: 2.1768 - val_accuracy: 0.2738\n",
      "Epoch 10/20\n",
      "6246/6246 [==============================] - 102s 16ms/step - loss: 2.0774 - accuracy: 0.3207 - val_loss: 2.1698 - val_accuracy: 0.2738\n",
      "Epoch 11/20\n",
      "6246/6246 [==============================] - 102s 16ms/step - loss: 2.0525 - accuracy: 0.3263 - val_loss: 2.1816 - val_accuracy: 0.2781\n",
      "Epoch 12/20\n",
      "6246/6246 [==============================] - 102s 16ms/step - loss: 2.0398 - accuracy: 0.3274 - val_loss: 2.1602 - val_accuracy: 0.2853\n",
      "Epoch 13/20\n",
      "6246/6246 [==============================] - 103s 17ms/step - loss: 2.0085 - accuracy: 0.3412 - val_loss: 2.1672 - val_accuracy: 0.2752\n",
      "Epoch 14/20\n",
      "6246/6246 [==============================] - 102s 16ms/step - loss: 1.9965 - accuracy: 0.3377 - val_loss: 2.1523 - val_accuracy: 0.2666\n",
      "Epoch 15/20\n",
      "6246/6246 [==============================] - 102s 16ms/step - loss: 1.9880 - accuracy: 0.3453 - val_loss: 2.1651 - val_accuracy: 0.2939\n",
      "Epoch 16/20\n",
      "6246/6246 [==============================] - 102s 16ms/step - loss: 1.9680 - accuracy: 0.3449 - val_loss: 2.1850 - val_accuracy: 0.2680\n",
      "Epoch 17/20\n",
      "6246/6246 [==============================] - 102s 16ms/step - loss: 1.9574 - accuracy: 0.3548 - val_loss: 2.1711 - val_accuracy: 0.2810\n",
      "Epoch 18/20\n",
      "6246/6246 [==============================] - 98s 16ms/step - loss: 1.9411 - accuracy: 0.3573 - val_loss: 2.1777 - val_accuracy: 0.2896\n",
      "Epoch 19/20\n",
      "6246/6246 [==============================] - 98s 16ms/step - loss: 1.9304 - accuracy: 0.3594 - val_loss: 2.1940 - val_accuracy: 0.2824\n",
      "Epoch 20/20\n",
      "6246/6246 [==============================] - 98s 16ms/step - loss: 1.9283 - accuracy: 0.3598 - val_loss: 2.1922 - val_accuracy: 0.2867\n",
      "Training Accuracy: 0.3958\n",
      "Testing Accuracy:  0.3089\n"
     ]
    }
   ],
   "source": [
    "hidden_dim = 50 \n",
    "\n",
    "model = lstm_model_embedding(vocab_size,\n",
    "                  hidden_dim,\n",
    "                  embedding_matrix,\n",
    "                  X_train.shape[1],\n",
    "                  16)\n",
    "\n",
    "history = model.fit(X_train, y_train,\n",
    "                    epochs=20,\n",
    "                    verbose=True,\n",
    "                    batch_size=50,\n",
    "                    validation_split=0.1)\n",
    "\n",
    "loss, accuracy = model.evaluate(X_train, y_train, verbose=False)\n",
    "print(\"Training Accuracy: {:.4f}\".format(accuracy))\n",
    "loss, accuracy = model.evaluate(X_test, y_test, verbose=False)\n",
    "print(\"Testing Accuracy:  {:.4f}\".format(accuracy))\n"
   ]
  },
  {
   "cell_type": "code",
   "execution_count": 42,
   "metadata": {
    "colab": {
     "base_uri": "https://localhost:8080/",
     "height": 337
    },
    "colab_type": "code",
    "id": "DDZme7CT-YS_",
    "outputId": "d6dcdfaa-3eb8-4392-96dc-379b512ddd8e"
   },
   "outputs": [
    {
     "data": {
      "image/png": "[encoded data removed]",
      "text/plain": [
       "<Figure size 864x360 with 2 Axes>"
      ]
     },
     "metadata": {
      "tags": []
     },
     "output_type": "display_data"
    }
   ],
   "source": [
    "plot_history(history)"
   ]
  },
  {
   "cell_type": "markdown",
   "metadata": {
    "colab_type": "text",
    "id": "lLHG7e0feUsR"
   },
   "source": [
    "# Ablation study for the best model "
   ]
  },
  {
   "cell_type": "code",
   "execution_count": 46,
   "metadata": {
    "colab": {
     "base_uri": "https://localhost:8080/",
     "height": 955
    },
    "colab_type": "code",
    "id": "xJHPvggueW-B",
    "outputId": "b0665cab-8565-4f30-ffeb-cc5800f7bd9f"
   },
   "outputs": [
    {
     "name": "stdout",
     "output_type": "stream",
     "text": [
      "Modelling for all \n",
      "The number of data 8675 \n",
      "Example from dataset\n",
      "  link link type type moment link sportscenter top\n",
      "For type 8\n",
      "Number of examples in train set 6940 \n",
      "Number of examples in test set 1735 \n",
      "Training Accuracy: 0.9375\n",
      "Testing Accuracy:  0.3597\n",
      "Modelling for punc \n",
      "The number of data 8675 \n",
      "Example from dataset\n",
      " 'http://www.youtube.com/watch?v=qsxhcwe3krw http:\n",
      "For type 8\n",
      "Number of examples in train set 6940 \n",
      "Number of examples in test set 1735 \n",
      "Training Accuracy: 0.9476\n",
      "Testing Accuracy:  0.5885\n",
      "Modelling for links \n",
      "The number of data 8675 \n",
      "Example from dataset\n",
      " 'link link enfp intj moment  link  sportscenter t\n",
      "For type 8\n",
      "Number of examples in train set 6940 \n",
      "Number of examples in test set 1735 \n",
      "Training Accuracy: 0.9638\n",
      "Testing Accuracy:  0.6173\n",
      "Modelling for letters \n",
      "The number of data 8675 \n",
      "Example from dataset\n",
      "  http   www youtube com watch v qsxhcwe krw http \n",
      "For type 8\n",
      "Number of examples in train set 6940 \n",
      "Number of examples in test set 1735 \n",
      "Training Accuracy: 0.9611\n",
      "Testing Accuracy:  0.6150\n",
      "Modelling for type \n",
      "The number of data 8675 \n",
      "Example from dataset\n",
      " 'http://www.youtube.com/watch?v=qsxhcwe3krw http:\n",
      "For type 8\n",
      "Number of examples in train set 6940 \n",
      "Number of examples in test set 1735 \n",
      "Training Accuracy: 0.9373\n",
      "Testing Accuracy:  0.3602\n",
      "Modelling for none \n",
      "The number of data 8675 \n",
      "Example from dataset\n",
      " 'http://www.youtube.com/watch?v=qsxhcwe3krw http:\n",
      "For type 8\n",
      "Number of examples in train set 6940 \n",
      "Number of examples in test set 1735 \n",
      "Training Accuracy: 0.9566\n",
      "Testing Accuracy:  0.5695\n"
     ]
    }
   ],
   "source": [
    "data_files = {\"all\":prep_data_file,\n",
    "              \"punc\":punc_data_file,\n",
    "              \"links\":links_data_file,\n",
    "              \"letters\":letter_data_file,\n",
    "              \"type\":type_data_file,\n",
    "             \"none\":none_data_file}\n",
    "for k,v in data_files.items():\n",
    "    print(\"Modelling for %s \" %(k))\n",
    "    X_train_cnt,X_test_cnt,y_train_cnt,y_test_cnt =  prepare_data_tfidf(data_files[k],\n",
    "                                                                    max_features_dim,\n",
    "                                                                    True)\n",
    "    model = baseline_model(input_dim,output_dim,hidden_dim)\n",
    "\n",
    "    history = model.fit(X_train_cnt, y_train_cnt,\n",
    "                    epochs=10,\n",
    "                    verbose=False,\n",
    "                    batch_size=10,\n",
    "                    validation_split=0.1)\n",
    "    loss, accuracy = model.evaluate(X_train_cnt, y_train_cnt, verbose=False)\n",
    "    print(\"Training Accuracy: {:.4f}\".format(accuracy))\n",
    "    loss, accuracy = model.evaluate(X_test_cnt, y_test_cnt, verbose=False)\n",
    "    print(\"Testing Accuracy:  {:.4f}\".format(accuracy))\n",
    "    #plot_history(history)\n",
    "   "
   ]
  },
  {
   "cell_type": "code",
   "execution_count": 47,
   "metadata": {
    "colab": {
     "base_uri": "https://localhost:8080/",
     "height": 1000
    },
    "colab_type": "code",
    "id": "c9svGwfDgSx6",
    "outputId": "be7d0bbf-e69d-4128-de8e-502953f2baef"
   },
   "outputs": [
    {
     "name": "stdout",
     "output_type": "stream",
     "text": [
      "Modelling for all \n",
      "The number of data 8675 \n",
      "Example from dataset\n",
      "  link link type type moment link sportscenter top\n",
      "For type 8\n",
      "The vocabulary size is  88643 \n",
      "The maximum post length is 921 \n",
      "Found 88643 unique tokens.\n",
      "Example from tokenized X \n",
      "[12, 12, 1, 1, 267, 12, 45827, 521, 1590, 223, 12, 5581, 30, 1264, 131, 30, 12, 12, 1822, 237, 103, 552, 131, 10842, 132, 9, 1, 18, 432, 867, 5267, 1833, 339, 50, 627, 1138, 12, 334, 1, 160, 298, 6148, 668, 71, 3508, 10, 115, 267, 1304, 64]\n",
      "Shape of data tensor after tokenization and padding: (8675, 921)\n",
      "Vocabulary Size 88644 \n",
      "Number of examples in train set 6940 \n",
      "The shape of X training tensor (6940,921) \n",
      "The shape of y training tensor (6940,16) \n",
      "Number of examples in test set 1735 \n",
      "The shape of X test tensor (1735,921)\n"
     ]
    },
    {
     "name": "stderr",
     "output_type": "stream",
     "text": [
      "/usr/local/lib/python3.6/dist-packages/tensorflow/python/framework/indexed_slices.py:434: UserWarning: Converting sparse IndexedSlices to a dense Tensor of unknown shape. This may consume a large amount of memory.\n",
      "  \"Converting sparse IndexedSlices to a dense Tensor of unknown shape. \"\n"
     ]
    },
    {
     "name": "stdout",
     "output_type": "stream",
     "text": [
      "Train on 6246 samples, validate on 694 samples\n",
      "Epoch 1/5\n",
      "6246/6246 [==============================] - 12s 2ms/step - loss: 2.3284 - accuracy: 0.1956 - val_loss: 2.2675 - val_accuracy: 0.2291\n",
      "Epoch 2/5\n",
      "6246/6246 [==============================] - 12s 2ms/step - loss: 1.5596 - accuracy: 0.5764 - val_loss: 2.2737 - val_accuracy: 0.2464\n",
      "Epoch 3/5\n",
      "6246/6246 [==============================] - 12s 2ms/step - loss: 0.2191 - accuracy: 0.9673 - val_loss: 2.4980 - val_accuracy: 0.2392\n",
      "Epoch 4/5\n",
      "6246/6246 [==============================] - 12s 2ms/step - loss: 0.0141 - accuracy: 0.9994 - val_loss: 2.5476 - val_accuracy: 0.2421\n",
      "Epoch 5/5\n",
      "6246/6246 [==============================] - 12s 2ms/step - loss: 0.0066 - accuracy: 0.9997 - val_loss: 2.6253 - val_accuracy: 0.2363\n",
      "Training Accuracy: 0.9233\n",
      "Testing Accuracy:  0.2634\n",
      "Modelling for punc \n",
      "The number of data 8675 \n",
      "Example from dataset\n",
      " 'http://www.youtube.com/watch?v=qsxhcwe3krw http:\n",
      "For type 8\n",
      "The vocabulary size is  351635 \n",
      "The maximum post length is 1065 \n",
      "Found 158042 unique tokens.\n",
      "Example from tokenized X \n",
      "[3727, 31, 36, 15, 28, 33, 37, 4383, 588, 511, 15, 511, 1376, 176, 108, 70, 357, 71, 31, 36, 15, 28, 33, 636, 1838, 288, 71, 31, 36, 15, 28, 33, 6814, 41, 1451, 178, 41, 37, 31, 36, 15, 28, 33, 37, 31, 36, 15, 28, 33, 2130]\n",
      "Shape of data tensor after tokenization and padding: (8675, 1065)\n",
      "Vocabulary Size 158043 \n",
      "Number of examples in train set 6940 \n",
      "The shape of X training tensor (6940,1065) \n",
      "The shape of y training tensor (6940,16) \n",
      "Number of examples in test set 1735 \n",
      "The shape of X test tensor (1735,1065)\n",
      "Train on 6246 samples, validate on 694 samples\n",
      "Epoch 1/5\n",
      "6246/6246 [==============================] - 18s 3ms/step - loss: 2.3075 - accuracy: 0.2120 - val_loss: 2.1950 - val_accuracy: 0.2349\n",
      "Epoch 2/5\n",
      "6246/6246 [==============================] - 18s 3ms/step - loss: 1.2219 - accuracy: 0.6980 - val_loss: 1.8986 - val_accuracy: 0.4078\n",
      "Epoch 3/5\n",
      "6246/6246 [==============================] - 18s 3ms/step - loss: 0.1394 - accuracy: 0.9829 - val_loss: 2.0039 - val_accuracy: 0.3905\n",
      "Epoch 4/5\n",
      "6246/6246 [==============================] - 18s 3ms/step - loss: 0.0119 - accuracy: 0.9994 - val_loss: 1.9297 - val_accuracy: 0.4107\n",
      "Epoch 5/5\n",
      "6246/6246 [==============================] - 18s 3ms/step - loss: 0.0053 - accuracy: 1.0000 - val_loss: 1.9143 - val_accuracy: 0.4207\n",
      "Training Accuracy: 0.9421\n",
      "Testing Accuracy:  0.4242\n",
      "Modelling for links \n",
      "The number of data 8675 \n",
      "Example from dataset\n",
      " 'link link enfp intj moment  link  sportscenter t\n",
      "For type 8\n",
      "The vocabulary size is  324068 \n",
      "The maximum post length is 1065 \n",
      "Found 118493 unique tokens.\n",
      "Example from tokenized X \n",
      "[2222, 12, 101, 65, 348, 12, 627, 1803, 281, 12, 6744, 36, 1423, 171, 36, 12, 12, 2086, 299, 126, 675, 171, 12053, 31, 160, 11, 61, 30, 515, 991, 5801, 2068, 411, 71, 720, 1288, 12, 418, 196, 356, 6805, 776, 106, 3828, 10, 141, 348, 1458, 81, 453]\n",
      "Shape of data tensor after tokenization and padding: (8675, 1065)\n",
      "Vocabulary Size 118494 \n",
      "Number of examples in train set 6940 \n",
      "The shape of X training tensor (6940,1065) \n",
      "The shape of y training tensor (6940,16) \n",
      "Number of examples in test set 1735 \n",
      "The shape of X test tensor (1735,1065)\n",
      "Train on 6246 samples, validate on 694 samples\n",
      "Epoch 1/5\n",
      "6246/6246 [==============================] - 16s 3ms/step - loss: 2.3124 - accuracy: 0.2065 - val_loss: 2.2166 - val_accuracy: 0.2911\n",
      "Epoch 2/5\n",
      "6246/6246 [==============================] - 15s 2ms/step - loss: 1.2833 - accuracy: 0.6881 - val_loss: 2.0233 - val_accuracy: 0.3559\n",
      "Epoch 3/5\n",
      "6246/6246 [==============================] - 15s 2ms/step - loss: 0.2128 - accuracy: 0.9718 - val_loss: 2.1385 - val_accuracy: 0.3386\n",
      "Epoch 4/5\n",
      "6246/6246 [==============================] - 15s 2ms/step - loss: 0.0185 - accuracy: 0.9990 - val_loss: 2.0446 - val_accuracy: 0.3703\n",
      "Epoch 5/5\n",
      "6246/6246 [==============================] - 15s 2ms/step - loss: 0.0077 - accuracy: 0.9997 - val_loss: 2.0029 - val_accuracy: 0.3905\n",
      "Training Accuracy: 0.9389\n",
      "Testing Accuracy:  0.3666\n",
      "Modelling for letters \n",
      "The number of data 8675 \n",
      "Example from dataset\n",
      "  http   www youtube com watch v qsxhcwe krw http \n",
      "For type 8\n",
      "The vocabulary size is  121112 \n",
      "The maximum post length is 956 \n",
      "Found 121112 unique tokens.\n",
      "Example from tokenized X \n",
      "[11, 30, 31, 12, 26, 27, 11, 395, 451, 12, 451, 9101, 151, 84, 56, 293, 11, 30, 31, 12, 26, 27, 11809, 227, 651, 11810, 552, 1651, 243, 11, 30, 31, 12, 26, 27, 5690, 35, 1318, 143, 35, 11, 30, 31, 12, 26, 27, 11, 30, 31, 12]\n",
      "Shape of data tensor after tokenization and padding: (8675, 956)\n",
      "Vocabulary Size 121113 \n",
      "Number of examples in train set 6940 \n",
      "The shape of X training tensor (6940,956) \n",
      "The shape of y training tensor (6940,16) \n",
      "Number of examples in test set 1735 \n",
      "The shape of X test tensor (1735,956)\n",
      "Train on 6246 samples, validate on 694 samples\n",
      "Epoch 1/5\n",
      "6246/6246 [==============================] - 15s 2ms/step - loss: 2.3121 - accuracy: 0.2123 - val_loss: 2.1864 - val_accuracy: 0.3242\n",
      "Epoch 2/5\n",
      "6246/6246 [==============================] - 15s 2ms/step - loss: 1.3463 - accuracy: 0.6558 - val_loss: 1.8204 - val_accuracy: 0.4280\n",
      "Epoch 3/5\n",
      "6246/6246 [==============================] - 15s 2ms/step - loss: 0.1966 - accuracy: 0.9766 - val_loss: 1.8692 - val_accuracy: 0.4063\n",
      "Epoch 4/5\n",
      "6246/6246 [==============================] - 15s 2ms/step - loss: 0.0218 - accuracy: 0.9989 - val_loss: 1.8169 - val_accuracy: 0.4164\n",
      "Epoch 5/5\n",
      "6246/6246 [==============================] - 15s 2ms/step - loss: 0.0092 - accuracy: 0.9997 - val_loss: 1.8330 - val_accuracy: 0.4135\n",
      "Training Accuracy: 0.9414\n",
      "Testing Accuracy:  0.4092\n",
      "Modelling for type \n",
      "The number of data 8675 \n",
      "Example from dataset\n",
      " 'http://www.youtube.com/watch?v=qsxhcwe3krw http:\n",
      "For type 8\n",
      "The vocabulary size is  349261 \n",
      "The maximum post length is 1065 \n",
      "Found 157804 unique tokens.\n",
      "Example from tokenized X \n",
      "[3683, 31, 36, 16, 28, 33, 37, 4341, 567, 492, 16, 492, 1347, 172, 1, 1, 344, 68, 31, 36, 16, 28, 33, 615, 1803, 278, 68, 31, 36, 16, 28, 33, 6771, 41, 1421, 174, 41, 37, 31, 36, 16, 28, 33, 37, 31, 36, 16, 28, 33, 2095]\n",
      "Shape of data tensor after tokenization and padding: (8675, 1065)\n",
      "Vocabulary Size 157805 \n",
      "Number of examples in train set 6940 \n",
      "The shape of X training tensor (6940,1065) \n",
      "The shape of y training tensor (6940,16) \n",
      "Number of examples in test set 1735 \n",
      "The shape of X test tensor (1735,1065)\n",
      "Train on 6246 samples, validate on 694 samples\n",
      "Epoch 1/5\n",
      "6246/6246 [==============================] - 18s 3ms/step - loss: 2.3206 - accuracy: 0.2003 - val_loss: 2.2674 - val_accuracy: 0.2219\n",
      "Epoch 2/5\n",
      "6246/6246 [==============================] - 18s 3ms/step - loss: 1.3907 - accuracy: 0.6803 - val_loss: 2.2236 - val_accuracy: 0.2378\n",
      "Epoch 3/5\n",
      "6246/6246 [==============================] - 18s 3ms/step - loss: 0.1520 - accuracy: 0.9856 - val_loss: 2.3805 - val_accuracy: 0.2450\n",
      "Epoch 4/5\n",
      "6246/6246 [==============================] - 18s 3ms/step - loss: 0.0114 - accuracy: 0.9995 - val_loss: 2.3923 - val_accuracy: 0.2349\n",
      "Epoch 5/5\n",
      "6246/6246 [==============================] - 18s 3ms/step - loss: 0.0050 - accuracy: 0.9998 - val_loss: 2.4978 - val_accuracy: 0.2349\n",
      "Training Accuracy: 0.9235\n",
      "Testing Accuracy:  0.2490\n",
      "Modelling for none \n",
      "The number of data 8675 \n",
      "Example from dataset\n",
      " 'http://www.youtube.com/watch?v=qsxhcwe3krw http:\n",
      "For type 8\n",
      "The vocabulary size is  351635 \n",
      "The maximum post length is 1065 \n",
      "Found 158042 unique tokens.\n",
      "Example from tokenized X \n",
      "[3727, 31, 36, 15, 28, 33, 37, 4383, 588, 511, 15, 511, 1376, 176, 108, 70, 357, 71, 31, 36, 15, 28, 33, 636, 1838, 288, 71, 31, 36, 15, 28, 33, 6814, 41, 1451, 178, 41, 37, 31, 36, 15, 28, 33, 37, 31, 36, 15, 28, 33, 2130]\n",
      "Shape of data tensor after tokenization and padding: (8675, 1065)\n",
      "Vocabulary Size 158043 \n",
      "Number of examples in train set 6940 \n",
      "The shape of X training tensor (6940,1065) \n",
      "The shape of y training tensor (6940,16) \n",
      "Number of examples in test set 1735 \n",
      "The shape of X test tensor (1735,1065)\n",
      "Train on 6246 samples, validate on 694 samples\n",
      "Epoch 1/5\n",
      "6246/6246 [==============================] - 18s 3ms/step - loss: 2.3061 - accuracy: 0.2046 - val_loss: 2.2321 - val_accuracy: 0.2089\n",
      "Epoch 2/5\n",
      "6246/6246 [==============================] - 18s 3ms/step - loss: 1.3117 - accuracy: 0.6583 - val_loss: 1.9515 - val_accuracy: 0.3617\n",
      "Epoch 3/5\n",
      "6246/6246 [==============================] - 18s 3ms/step - loss: 0.1373 - accuracy: 0.9798 - val_loss: 2.0312 - val_accuracy: 0.3631\n",
      "Epoch 4/5\n",
      "6246/6246 [==============================] - 18s 3ms/step - loss: 0.0125 - accuracy: 0.9992 - val_loss: 2.0313 - val_accuracy: 0.3790\n",
      "Epoch 5/5\n",
      "6246/6246 [==============================] - 18s 3ms/step - loss: 0.0056 - accuracy: 0.9998 - val_loss: 2.0288 - val_accuracy: 0.3746\n",
      "Training Accuracy: 0.9373\n",
      "Testing Accuracy:  0.3775\n"
     ]
    }
   ],
   "source": [
    "data_files = {\"all\":prep_data_file,\n",
    "              \"punc\":punc_data_file,\n",
    "              \"links\":links_data_file,\n",
    "              \"letters\":letter_data_file,\n",
    "              \"type\":type_data_file,\n",
    "             \"none\":none_data_file}\n",
    "for k,v in data_files.items():\n",
    "    print(\"Modelling for %s \" %(k))\n",
    "    X_train,X_test,y_train,y_test,vocab_size,tokenizer =  prepare_data(data_files[k],json_flag=True)\n",
    "    \n",
    "    model = simple_embedding_model(input_dim=vocab_size,\n",
    "                               hidden_dim=hidden_dim,\n",
    "                               input_length = X_train.shape[1],\n",
    "                               output_dim = 16)\n",
    "\n",
    "    history = model.fit(X_train, y_train,\n",
    "                    epochs=5,\n",
    "                    verbose=True,\n",
    "                    batch_size=50,\n",
    "                    validation_split = 0.1)\n",
    "\n",
    "    loss, accuracy = model.evaluate(X_train, y_train, verbose=False)  \n",
    "    print(\"Training Accuracy: {:.4f}\".format(accuracy))\n",
    "    loss, accuracy = model.evaluate(X_test, y_test, verbose=False)\n",
    "    print(\"Testing Accuracy:  {:.4f}\".format(accuracy))\n",
    "    # plot_history(history)"
   ]
  }
 ],
 "metadata": {
  "colab": {
   "collapsed_sections": [],
   "name": "AdvancedModelsMBTI",
   "provenance": []
  },
  "kernelspec": {
   "display_name": "Python 3",
   "language": "python",
   "name": "python3"
  },
  "language_info": {
   "codemirror_mode": {
    "name": "ipython",
    "version": 3
   },
   "file_extension": ".py",
   "mimetype": "text/x-python",
   "name": "python",
   "nbconvert_exporter": "python",
   "pygments_lexer": "ipython3",
   "version": "3.6.8"
  }
 },
 "nbformat": 4,
 "nbformat_minor": 1
}
